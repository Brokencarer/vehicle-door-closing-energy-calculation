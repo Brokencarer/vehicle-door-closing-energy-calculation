{
  "cells": [
    {
      "cell_type": "markdown",
      "metadata": {
        "id": "view-in-github",
        "colab_type": "text"
      },
      "source": [
        "<a href=\"https://colab.research.google.com/github/Brokencarer/vehicle-door-closing-energy-calculation/blob/main/Energy_consumption_of_vehicle_door_BLC_Frnt.ipynb\" target=\"_parent\"><img src=\"https://colab.research.google.com/assets/colab-badge.svg\" alt=\"Open In Colab\"/></a>"
      ]
    },
    {
      "cell_type": "code",
      "execution_count": null,
      "metadata": {
        "id": "CbKh2rC1WkBS"
      },
      "outputs": [],
      "source": [
        "import math\n",
        "import pandas as pd\n",
        "import numpy as np\n",
        "import matplotlib.pyplot as plt\n",
        "import seaborn as sns\n",
        "import warnings\n",
        "import scipy.stats as stats\n",
        "from __future__ import division\n",
        "warnings.filterwarnings('ignore')\n",
        "from sklearn.preprocessing import PolynomialFeatures\n",
        "from sklearn.linear_model import LinearRegression\n",
        "from sklearn.metrics import mean_absolute_error"
      ]
    },
    {
      "cell_type": "code",
      "execution_count": null,
      "metadata": {
        "id": "KFCq5F6PW4cN"
      },
      "outputs": [],
      "source": [
        "import matplotlib as mpl\n",
        "from cycler import cycler\n",
        "mpl.rcParams['axes.prop_cycle'] = cycler(color=['#FD6D5A', '#FEB40B', '#6DC354',  '#319975',\n",
        "'#8C8FD5',  'pink','#994487', '#518CD8'])"
      ]
    },
    {
      "cell_type": "code",
      "execution_count": null,
      "metadata": {
        "colab": {
          "base_uri": "https://localhost:8080/"
        },
        "id": "AS2I4V5kW6V6",
        "outputId": "32acb7f1-b5de-47b8-85a1-fdca90e98021"
      },
      "outputs": [
        {
          "name": "stdout",
          "output_type": "stream",
          "text": [
            "Enter vehicle volume3.433\n",
            "Door height1\n",
            "Door Radius 1.41\n",
            "Door mass45.07\n",
            "First point position0.409767, 0.936447, 0.689535\n",
            "Second point position0.402178, 0.947833, 0.254751\n",
            "Mass center position0.939, 0.83148, 0.599803\n"
          ]
        }
      ],
      "source": [
        "V_c = float(input(\"Enter vehicle volume\"))\n",
        "H = float(input(\"Door height\"))\n",
        "R_r = float(input(\"Door Radius \"))\n",
        "m_door = float(input(\"Door mass\"))\n",
        "\n",
        "#front_angle = float(input('Front dip angle'))\n",
        "#in_angle = float(input('Inwards dip angle'))\n",
        "\n",
        "pt1 = input('First point position').split(',')\n",
        "pt2 = input('Second point position').split(',')\n",
        "pt_g = input('Mass center position').split(',')\n",
        "\n",
        "#大车\n",
        "#0.523, 0.864, 0.638\n",
        "#0.529, 0.879, 0.205\n",
        "#1.008, 0.829, 0.575\n",
        "\n",
        "#小车\n",
        "#0.42597, 0.7509,0.57368\n",
        "#0.43285, 0.77157, 0.17928\n",
        "#0.94627, 0.70813, 0.55970\n",
        "\n",
        "#Force ET7\n",
        "# 0.404175, 0.920343, 0.565542\n",
        "# 0.390564, 0.933946, 0.176017\n",
        "# 0.907446, 0.869609, 0.4887302\n",
        "#2.93, 0.98, 1.114, 38.485\n",
        "\n",
        "#DOM\n",
        "#上铰链点/mm  0.388438, 0.910434, 0.637692\n",
        "#下铰链点/mm   0.382103, 0.921034, 0.200834\n",
        "#重心 0.853681, 0.800746, 0.524226\n",
        "# 37.126\n",
        "\n",
        "#dom 后门 31.56\n",
        "# 1.477657, 0.891135, 0.644663\n",
        "# 1.464938, 0.8982, 0.259924\n",
        "# 1.939610,0.818629,0.556638\n",
        "\n",
        "#blanc 参数\n",
        "#前门 体积 3.433 泄压阀 0.0172 车门面积1.391\n",
        "#长宽1.282 1.415\n",
        "#旋转半径 0.926\n",
        "# 0.409767, 0.936447, 0.689535\n",
        "# 0.402178, 0.947833, 0.254751\n",
        "#前门重心 0.939, 0.83148, 0.599803\n",
        "#45.07\n",
        "\n",
        "#后门 1.528663, 0.926759, 0.742182\n",
        "# 1.504597, 0.9388, 0.28297\n",
        "#长宽1.230 1.406 面积1.44 重44.6649\n",
        "# 2.013319, 0.8183, 0.64058\n",
        "#旋转半径 0.966"
      ]
    },
    {
      "cell_type": "code",
      "execution_count": null,
      "metadata": {
        "colab": {
          "base_uri": "https://localhost:8080/"
        },
        "id": "gohCfj0iW9Fw",
        "outputId": "b086df43-f981-4720-9ad0-42a07833bf02"
      },
      "outputs": [
        {
          "output_type": "execute_result",
          "data": {
            "text/plain": [
              "-3.2422120500363425"
            ]
          },
          "metadata": {},
          "execution_count": 60
        }
      ],
      "source": [
        "center_tt = [float(pt_g[0])-float(pt2[0]) ,float(pt_g[1])-float(pt2[1]) ,float(pt_g[2])-float(pt2[2])]\n",
        "\n",
        "pt1_xx = float(pt1[0])\n",
        "pt1_yy = float(pt1[1])\n",
        "pt1_zz = float(pt1[2])\n",
        "pt2_xx = float(pt2[0])\n",
        "pt2_yy = float(pt2[1])\n",
        "pt2_zz = float(pt2[2])\n",
        "\n",
        "ptg_xx = float(pt_g[0])\n",
        "ptg_yy = float(pt_g[1])\n",
        "ptg_zz = float(pt_g[2])\n",
        "\n",
        "\n",
        "axx = (pt1_xx - pt2_xx)/math.sqrt((pt1_xx - pt2_xx)**2+(pt1_yy - pt2_yy)**2+(pt1_zz - pt2_zz)**2)\n",
        "ayy = (pt1_yy - pt2_yy)/math.sqrt((pt1_xx - pt2_xx)**2+(pt1_yy - pt2_yy)**2+(pt1_zz - pt2_zz)**2)\n",
        "azz = (pt1_zz - pt2_zz)/math.sqrt((pt1_xx - pt2_xx)**2+(pt1_yy - pt2_yy)**2+(pt1_zz - pt2_zz)**2)\n",
        "\n",
        "gxx = center_tt[0]\n",
        "gyy = center_tt[1]\n",
        "gzz = center_tt[2]\n",
        "\n",
        "\n",
        "ddtheta = -29*3.14159/180\n",
        "#ddtheta = -65*3.14159/180\n",
        "\n",
        "\n",
        "\n",
        "new_xx = (axx*axx*(1-math.cos(-ddtheta))+math.cos(-ddtheta))*gxx+(axx*ayy*(1-math.cos(-ddtheta))-azz*math.sin(-ddtheta))*gyy+ (axx*azz*(1-math.cos(-ddtheta))+ayy*math.sin(-ddtheta))*gzz\n",
        "new_yy = (axx*ayy*(1-math.cos(-ddtheta))+azz*math.sin(-ddtheta))*gxx+(ayy*ayy*(1-math.cos(-ddtheta))+math.cos(-ddtheta))*gyy+ (ayy*azz*(1-math.cos(-ddtheta))-axx*math.sin(-ddtheta))*gzz\n",
        "new_zz = (axx*azz*(1-math.cos(-ddtheta))-ayy*math.sin(-ddtheta))*gxx+(ayy*azz*(1-math.cos(-ddtheta))+axx*math.sin(-ddtheta))*gyy+(azz*azz*(1-math.cos(-ddtheta))+math.cos(-ddtheta))*gzz\n",
        "\n",
        "m_door * 9.8 * (gzz-new_zz)\n"
      ]
    },
    {
      "cell_type": "code",
      "execution_count": null,
      "metadata": {
        "colab": {
          "base_uri": "https://localhost:8080/",
          "height": 659
        },
        "id": "eZNBPdMXXEbd",
        "outputId": "0187d327-a12b-4ebc-9269-9388f391cb6d"
      },
      "outputs": [
        {
          "output_type": "execute_result",
          "data": {
            "text/plain": [
              "<Axes: title={'center': 'Polynomial'}, xlabel='Angle'>"
            ]
          },
          "metadata": {},
          "execution_count": 7
        },
        {
          "output_type": "display_data",
          "data": {
            "text/plain": [
              "<Figure size 1600x700 with 1 Axes>"
            ],
            "image/png": "[encoded data removed]"
          },
          "metadata": {}
        }
      ],
      "source": [
        "dataset = pd.read_excel(\"test_force.xlsx\")\n",
        "dataset.drop(axis = 0, index = 0,inplace = True)\n",
        "dataset.drop(dataset.head(285).index, inplace = True)\n",
        "\n",
        "LR = LinearRegression()\n",
        "poly = PolynomialFeatures(degree =14)\n",
        "\n",
        "X = dataset.drop(columns = ['Force(N)'], axis = 1).values\n",
        "y = dataset['Force(N)'].values\n",
        "\n",
        "X_poly = poly.fit_transform(X)\n",
        "LR.fit(X_poly, y)\n",
        "y_pred = LR.predict(X_poly)\n",
        "resultLR_df = pd.DataFrame(columns=['Predicted'])\n",
        "resultLR_df['Predicted'] = y_pred\n",
        "resultLR_df['Original'] = y\n",
        "resultLR_df['Angle'] = dataset['Angle(deg)'].values\n",
        "resultLR_df.set_index(['Angle'], inplace = True)\n",
        "resultLR_df.plot(figsize=(16,7), kind = 'line',xlim = [0, 30],title = 'Polynomial')"
      ]
    },
    {
      "cell_type": "code",
      "execution_count": null,
      "metadata": {
        "colab": {
          "base_uri": "https://localhost:8080/",
          "height": 659
        },
        "id": "-5CnW4gxXFSz",
        "outputId": "5debb71d-691b-47cb-f475-6bde3dcad7c1"
      },
      "outputs": [
        {
          "output_type": "execute_result",
          "data": {
            "text/plain": [
              "<Axes: title={'center': 'Random Forest'}, xlabel='Angle'>"
            ]
          },
          "metadata": {},
          "execution_count": 8
        },
        {
          "output_type": "display_data",
          "data": {
            "text/plain": [
              "<Figure size 1600x700 with 1 Axes>"
            ],
            "image/png": "[encoded data removed]"
          },
          "metadata": {}
        }
      ],
      "source": [
        "from sklearn.ensemble import RandomForestRegressor\n",
        "dataset = pd.read_excel(\"test_force.xlsx\")\n",
        "dataset.drop(axis = 0, index = 0,inplace = True)\n",
        "dataset.drop(dataset.head(270).index, inplace = True)\n",
        "\n",
        "\n",
        "\n",
        "X = dataset.drop(columns = ['Force(N)'], axis = 1).values\n",
        "y = dataset['Force(N)'].values\n",
        "\n",
        "\n",
        "regr = RandomForestRegressor()\n",
        "\n",
        "regr.fit(X, y)\n",
        "y_pred = regr.predict(X)\n",
        "resultLR_df = pd.DataFrame(columns=['Predicted'])\n",
        "resultLR_df['Predicted'] = y_pred\n",
        "resultLR_df['Original'] = y\n",
        "resultLR_df['Angle'] = dataset['Angle(deg)'].values\n",
        "resultLR_df.set_index(['Angle'], inplace = True)\n",
        "resultLR_df.plot(figsize=(16,7), kind = 'line',xlim = [0, 30],title = 'Random Forest')\n"
      ]
    },
    {
      "cell_type": "code",
      "execution_count": null,
      "metadata": {
        "colab": {
          "base_uri": "https://localhost:8080/",
          "height": 659
        },
        "id": "rvyG9ZRjXHaW",
        "outputId": "dbcaccca-0758-49c3-8b84-7c8099841a6e"
      },
      "outputs": [
        {
          "output_type": "execute_result",
          "data": {
            "text/plain": [
              "<Axes: title={'center': 'Random Forest'}, xlabel='Angle'>"
            ]
          },
          "metadata": {},
          "execution_count": 65
        },
        {
          "output_type": "display_data",
          "data": {
            "text/plain": [
              "<Figure size 1600x700 with 1 Axes>"
            ],
            "image/png": "[encoded data removed]"
          },
          "metadata": {}
        }
      ],
      "source": [
        "from sklearn.ensemble import RandomForestRegressor\n",
        "#dataset = pd.read_excel(\"test_force.xlsx\")\n",
        "#dataset = pd.read_excel(\"dom_checker.xlsx\").head(60)\n",
        "#dataset = pd.read_excel(\"checker_long.xlsx\").head(70)\n",
        "dataset = pd.read_excel(\"check_0524.xlsx\").head(63)    #DOM关门 0524/0524R\n",
        "#dataset = pd.read_excel(\"check_openF.xlsx\").head(133)    #DOM前门开启\n",
        "#dataset.drop(axis = 0, index = 0,inplace = True)\n",
        "#dataset.drop(dataset.head(270).index, inplace = True)\n",
        "\n",
        "\n",
        "\n",
        "X = dataset.drop(columns = ['Force(N)'], axis = 1).values\n",
        "y = dataset['Force(N)'].values\n",
        "\n",
        "\n",
        "regr = RandomForestRegressor(n_estimators= 31)\n",
        "\n",
        "regr.fit(X, y)\n",
        "y_pred = regr.predict(X)\n",
        "resultLR_df = pd.DataFrame(columns=['Predicted'])\n",
        "resultLR_df['Predicted'] = y_pred\n",
        "resultLR_df['Original'] = y\n",
        "resultLR_df['Angle'] = dataset['Angle(deg)'].values\n",
        "resultLR_df.set_index(['Angle'], inplace = True)\n",
        "resultLR_df.plot(figsize=(16,7), kind = 'line',xlim = [0, 65],title = 'Random Forest')"
      ]
    },
    {
      "cell_type": "code",
      "execution_count": null,
      "metadata": {
        "colab": {
          "base_uri": "https://localhost:8080/",
          "height": 659
        },
        "id": "uYL2qyPMXJYP",
        "outputId": "a84ffc29-9196-4888-c903-9f6e781774d3"
      },
      "outputs": [
        {
          "output_type": "execute_result",
          "data": {
            "text/plain": [
              "<Axes: title={'center': 'Random Forest'}, xlabel='Angle'>"
            ]
          },
          "metadata": {},
          "execution_count": 10
        },
        {
          "output_type": "display_data",
          "data": {
            "text/plain": [
              "<Figure size 1600x700 with 1 Axes>"
            ],
            "image/png": "[encoded data removed]"
          },
          "metadata": {}
        }
      ],
      "source": [
        "dataset = pd.read_excel(\"lock_force.xlsx\")\n",
        "dataset.drop(axis = 0, index = 0,inplace = True)\n",
        "#dataset.drop(dataset.head(270).index, inplace = True)\n",
        "X = dataset.drop(columns = ['Force'], axis = 1).values\n",
        "y = dataset['Force'].values\n",
        "regr_lock = RandomForestRegressor()\n",
        "regr_lock.fit(X, y)\n",
        "y_pred = regr_lock.predict(X)\n",
        "resultLR_df = pd.DataFrame(columns=['Predicted'])\n",
        "resultLR_df['Predicted'] = y_pred\n",
        "resultLR_df['Original'] = y\n",
        "resultLR_df['Angle'] = dataset['Angle'].values\n",
        "resultLR_df.set_index(['Angle'], inplace = True)\n",
        "resultLR_df.plot(figsize=(16,7), kind = 'line',xlim = [-0.4, 0.8],title = 'Random Forest')"
      ]
    },
    {
      "cell_type": "code",
      "execution_count": null,
      "metadata": {
        "colab": {
          "base_uri": "https://localhost:8080/"
        },
        "id": "EiSqveD2XKu5",
        "outputId": "8ef9a097-e5c0-48e0-d20d-29f14ddf4f61"
      },
      "outputs": [
        {
          "output_type": "execute_result",
          "data": {
            "text/plain": [
              "0.559161002714111"
            ]
          },
          "metadata": {},
          "execution_count": 11
        }
      ],
      "source": [
        "pt1_x = float(pt1[0])\n",
        "pt1_y = float(pt1[1])\n",
        "pt1_z = float(pt1[2])\n",
        "pt2_x = float(pt2[0])\n",
        "pt2_y = float(pt2[1])\n",
        "pt2_z = float(pt2[2])\n",
        "ptg_x = float(pt_g[0])\n",
        "ptg_y = float(pt_g[1])\n",
        "ptg_z = float(pt_g[2])\n",
        "R_rotation = (math.sqrt((ptg_y -0.5* pt2_y - 0.5* pt1_y)**2+(ptg_x - 0.5*pt2_x - 0.5* pt1_x)**2+(ptg_z -0.5*pt2_z - 0.5* pt1_z)**2))\n",
        "R_rotation"
      ]
    },
    {
      "cell_type": "code",
      "execution_count": null,
      "metadata": {
        "id": "WPqbv0BaXMhZ"
      },
      "outputs": [],
      "source": [
        "J =13+m_door*R_rotation**2\n",
        "\n",
        "w_0 = (3.8*2/J)**0.5\n",
        "v_0 = w_0*R_rotation\n",
        "#v_0 = 0.289\n",
        "v_t = v_0\n",
        "dt = 0.00003\n",
        "r = 1.4\n",
        "R = 287\n",
        "theta = 29*3.1415/180        #######BLANC前门29 后门30##############\n",
        "#A_0 = R_r*theta*(H+R_r)\n",
        "A_p = 0.0086*1.5\n",
        "\n",
        "\n",
        "#DOM 0.0089*2 Blanc 0.0172\n",
        "\n",
        "\n",
        "p_0 = 101.3*1000\n",
        "p_1 = 101.3*1000\n",
        "\n",
        "q_m = 0\n",
        "S = 1\n",
        "W = (1+(r-1)/r)**(r/(r-1))\n",
        "Cd = 1.17\n",
        "\n",
        "m_0 = 1.205*(V_c+ 0.25*H* (R_r**2) /2)\n",
        "t_start = 0\n",
        "\n",
        "i = 0\n",
        "a_theta = []\n",
        "a_v = []\n",
        "a_i = []\n",
        "a_p = []\n",
        "a_q = []\n",
        "a_alpha = []\n",
        "a_seal = []"
      ]
    },
    {
      "cell_type": "code",
      "source": [
        "J"
      ],
      "metadata": {
        "colab": {
          "base_uri": "https://localhost:8080/"
        },
        "id": "-dU5hiWA3Zhd",
        "outputId": "8e917fd6-bb7b-4898-ca73-3f7da13196c5"
      },
      "execution_count": null,
      "outputs": [
        {
          "output_type": "execute_result",
          "data": {
            "text/plain": [
              "27.091632484918186"
            ]
          },
          "metadata": {},
          "execution_count": 31
        }
      ]
    },
    {
      "cell_type": "code",
      "execution_count": null,
      "metadata": {
        "colab": {
          "base_uri": "https://localhost:8080/",
          "height": 424
        },
        "id": "bA3ftxfeXPKT",
        "outputId": "4fa4b826-3214-417e-8095-d82b30280998"
      },
      "outputs": [
        {
          "output_type": "execute_result",
          "data": {
            "text/plain": [
              "     Angle(deg)  Force(N)\n",
              "281        29.8 -1.400560\n",
              "282        29.5 -0.840336\n",
              "283        29.3 -0.186741\n",
              "284        28.8  1.027077\n",
              "285        28.0  1.960784\n",
              "..          ...       ...\n",
              "491         0.5 -4.761905\n",
              "492         0.4 -4.668534\n",
              "493         0.3 -4.761905\n",
              "494         0.1 -4.855275\n",
              "495         0.0 -4.855275\n",
              "\n",
              "[215 rows x 2 columns]"
            ],
            "text/html": [
              "\n",
              "  <div id=\"df-e32ae705-2189-4778-9ff3-c1755294ec7e\" class=\"colab-df-container\">\n",
              "    <div>\n",
              "<style scoped>\n",
              "    .dataframe tbody tr th:only-of-type {\n",
              "        vertical-align: middle;\n",
              "    }\n",
              "\n",
              "    .dataframe tbody tr th {\n",
              "        vertical-align: top;\n",
              "    }\n",
              "\n",
              "    .dataframe thead th {\n",
              "        text-align: right;\n",
              "    }\n",
              "</style>\n",
              "<table border=\"1\" class=\"dataframe\">\n",
              "  <thead>\n",
              "    <tr style=\"text-align: right;\">\n",
              "      <th></th>\n",
              "      <th>Angle(deg)</th>\n",
              "      <th>Force(N)</th>\n",
              "    </tr>\n",
              "  </thead>\n",
              "  <tbody>\n",
              "    <tr>\n",
              "      <th>281</th>\n",
              "      <td>29.8</td>\n",
              "      <td>-1.400560</td>\n",
              "    </tr>\n",
              "    <tr>\n",
              "      <th>282</th>\n",
              "      <td>29.5</td>\n",
              "      <td>-0.840336</td>\n",
              "    </tr>\n",
              "    <tr>\n",
              "      <th>283</th>\n",
              "      <td>29.3</td>\n",
              "      <td>-0.186741</td>\n",
              "    </tr>\n",
              "    <tr>\n",
              "      <th>284</th>\n",
              "      <td>28.8</td>\n",
              "      <td>1.027077</td>\n",
              "    </tr>\n",
              "    <tr>\n",
              "      <th>285</th>\n",
              "      <td>28.0</td>\n",
              "      <td>1.960784</td>\n",
              "    </tr>\n",
              "    <tr>\n",
              "      <th>...</th>\n",
              "      <td>...</td>\n",
              "      <td>...</td>\n",
              "    </tr>\n",
              "    <tr>\n",
              "      <th>491</th>\n",
              "      <td>0.5</td>\n",
              "      <td>-4.761905</td>\n",
              "    </tr>\n",
              "    <tr>\n",
              "      <th>492</th>\n",
              "      <td>0.4</td>\n",
              "      <td>-4.668534</td>\n",
              "    </tr>\n",
              "    <tr>\n",
              "      <th>493</th>\n",
              "      <td>0.3</td>\n",
              "      <td>-4.761905</td>\n",
              "    </tr>\n",
              "    <tr>\n",
              "      <th>494</th>\n",
              "      <td>0.1</td>\n",
              "      <td>-4.855275</td>\n",
              "    </tr>\n",
              "    <tr>\n",
              "      <th>495</th>\n",
              "      <td>0.0</td>\n",
              "      <td>-4.855275</td>\n",
              "    </tr>\n",
              "  </tbody>\n",
              "</table>\n",
              "<p>215 rows × 2 columns</p>\n",
              "</div>\n",
              "    <div class=\"colab-df-buttons\">\n",
              "\n",
              "  <div class=\"colab-df-container\">\n",
              "    <button class=\"colab-df-convert\" onclick=\"convertToInteractive('df-e32ae705-2189-4778-9ff3-c1755294ec7e')\"\n",
              "            title=\"Convert this dataframe to an interactive table.\"\n",
              "            style=\"display:none;\">\n",
              "\n",
              "  <svg xmlns=\"http://www.w3.org/2000/svg\" height=\"24px\" viewBox=\"0 -960 960 960\">\n",
              "    <path d=\"M120-120v-720h720v720H120Zm60-500h600v-160H180v160Zm220 220h160v-160H400v160Zm0 220h160v-160H400v160ZM180-400h160v-160H180v160Zm440 0h160v-160H620v160ZM180-180h160v-160H180v160Zm440 0h160v-160H620v160Z\"/>\n",
              "  </svg>\n",
              "    </button>\n",
              "\n",
              "  <style>\n",
              "    .colab-df-container {\n",
              "      display:flex;\n",
              "      gap: 12px;\n",
              "    }\n",
              "\n",
              "    .colab-df-convert {\n",
              "      background-color: #E8F0FE;\n",
              "      border: none;\n",
              "      border-radius: 50%;\n",
              "      cursor: pointer;\n",
              "      display: none;\n",
              "      fill: #1967D2;\n",
              "      height: 32px;\n",
              "      padding: 0 0 0 0;\n",
              "      width: 32px;\n",
              "    }\n",
              "\n",
              "    .colab-df-convert:hover {\n",
              "      background-color: #E2EBFA;\n",
              "      box-shadow: 0px 1px 2px rgba(60, 64, 67, 0.3), 0px 1px 3px 1px rgba(60, 64, 67, 0.15);\n",
              "      fill: #174EA6;\n",
              "    }\n",
              "\n",
              "    .colab-df-buttons div {\n",
              "      margin-bottom: 4px;\n",
              "    }\n",
              "\n",
              "    [theme=dark] .colab-df-convert {\n",
              "      background-color: #3B4455;\n",
              "      fill: #D2E3FC;\n",
              "    }\n",
              "\n",
              "    [theme=dark] .colab-df-convert:hover {\n",
              "      background-color: #434B5C;\n",
              "      box-shadow: 0px 1px 3px 1px rgba(0, 0, 0, 0.15);\n",
              "      filter: drop-shadow(0px 1px 2px rgba(0, 0, 0, 0.3));\n",
              "      fill: #FFFFFF;\n",
              "    }\n",
              "  </style>\n",
              "\n",
              "    <script>\n",
              "      const buttonEl =\n",
              "        document.querySelector('#df-e32ae705-2189-4778-9ff3-c1755294ec7e button.colab-df-convert');\n",
              "      buttonEl.style.display =\n",
              "        google.colab.kernel.accessAllowed ? 'block' : 'none';\n",
              "\n",
              "      async function convertToInteractive(key) {\n",
              "        const element = document.querySelector('#df-e32ae705-2189-4778-9ff3-c1755294ec7e');\n",
              "        const dataTable =\n",
              "          await google.colab.kernel.invokeFunction('convertToInteractive',\n",
              "                                                    [key], {});\n",
              "        if (!dataTable) return;\n",
              "\n",
              "        const docLinkHtml = 'Like what you see? Visit the ' +\n",
              "          '<a target=\"_blank\" href=https://colab.research.google.com/notebooks/data_table.ipynb>data table notebook</a>'\n",
              "          + ' to learn more about interactive tables.';\n",
              "        element.innerHTML = '';\n",
              "        dataTable['output_type'] = 'display_data';\n",
              "        await google.colab.output.renderOutput(dataTable, element);\n",
              "        const docLink = document.createElement('div');\n",
              "        docLink.innerHTML = docLinkHtml;\n",
              "        element.appendChild(docLink);\n",
              "      }\n",
              "    </script>\n",
              "  </div>\n",
              "\n",
              "\n",
              "<div id=\"df-32a93256-fa3d-4ac8-bb90-54a819f87ff9\">\n",
              "  <button class=\"colab-df-quickchart\" onclick=\"quickchart('df-32a93256-fa3d-4ac8-bb90-54a819f87ff9')\"\n",
              "            title=\"Suggest charts\"\n",
              "            style=\"display:none;\">\n",
              "\n",
              "<svg xmlns=\"http://www.w3.org/2000/svg\" height=\"24px\"viewBox=\"0 0 24 24\"\n",
              "     width=\"24px\">\n",
              "    <g>\n",
              "        <path d=\"M19 3H5c-1.1 0-2 .9-2 2v14c0 1.1.9 2 2 2h14c1.1 0 2-.9 2-2V5c0-1.1-.9-2-2-2zM9 17H7v-7h2v7zm4 0h-2V7h2v10zm4 0h-2v-4h2v4z\"/>\n",
              "    </g>\n",
              "</svg>\n",
              "  </button>\n",
              "\n",
              "<style>\n",
              "  .colab-df-quickchart {\n",
              "      --bg-color: #E8F0FE;\n",
              "      --fill-color: #1967D2;\n",
              "      --hover-bg-color: #E2EBFA;\n",
              "      --hover-fill-color: #174EA6;\n",
              "      --disabled-fill-color: #AAA;\n",
              "      --disabled-bg-color: #DDD;\n",
              "  }\n",
              "\n",
              "  [theme=dark] .colab-df-quickchart {\n",
              "      --bg-color: #3B4455;\n",
              "      --fill-color: #D2E3FC;\n",
              "      --hover-bg-color: #434B5C;\n",
              "      --hover-fill-color: #FFFFFF;\n",
              "      --disabled-bg-color: #3B4455;\n",
              "      --disabled-fill-color: #666;\n",
              "  }\n",
              "\n",
              "  .colab-df-quickchart {\n",
              "    background-color: var(--bg-color);\n",
              "    border: none;\n",
              "    border-radius: 50%;\n",
              "    cursor: pointer;\n",
              "    display: none;\n",
              "    fill: var(--fill-color);\n",
              "    height: 32px;\n",
              "    padding: 0;\n",
              "    width: 32px;\n",
              "  }\n",
              "\n",
              "  .colab-df-quickchart:hover {\n",
              "    background-color: var(--hover-bg-color);\n",
              "    box-shadow: 0 1px 2px rgba(60, 64, 67, 0.3), 0 1px 3px 1px rgba(60, 64, 67, 0.15);\n",
              "    fill: var(--button-hover-fill-color);\n",
              "  }\n",
              "\n",
              "  .colab-df-quickchart-complete:disabled,\n",
              "  .colab-df-quickchart-complete:disabled:hover {\n",
              "    background-color: var(--disabled-bg-color);\n",
              "    fill: var(--disabled-fill-color);\n",
              "    box-shadow: none;\n",
              "  }\n",
              "\n",
              "  .colab-df-spinner {\n",
              "    border: 2px solid var(--fill-color);\n",
              "    border-color: transparent;\n",
              "    border-bottom-color: var(--fill-color);\n",
              "    animation:\n",
              "      spin 1s steps(1) infinite;\n",
              "  }\n",
              "\n",
              "  @keyframes spin {\n",
              "    0% {\n",
              "      border-color: transparent;\n",
              "      border-bottom-color: var(--fill-color);\n",
              "      border-left-color: var(--fill-color);\n",
              "    }\n",
              "    20% {\n",
              "      border-color: transparent;\n",
              "      border-left-color: var(--fill-color);\n",
              "      border-top-color: var(--fill-color);\n",
              "    }\n",
              "    30% {\n",
              "      border-color: transparent;\n",
              "      border-left-color: var(--fill-color);\n",
              "      border-top-color: var(--fill-color);\n",
              "      border-right-color: var(--fill-color);\n",
              "    }\n",
              "    40% {\n",
              "      border-color: transparent;\n",
              "      border-right-color: var(--fill-color);\n",
              "      border-top-color: var(--fill-color);\n",
              "    }\n",
              "    60% {\n",
              "      border-color: transparent;\n",
              "      border-right-color: var(--fill-color);\n",
              "    }\n",
              "    80% {\n",
              "      border-color: transparent;\n",
              "      border-right-color: var(--fill-color);\n",
              "      border-bottom-color: var(--fill-color);\n",
              "    }\n",
              "    90% {\n",
              "      border-color: transparent;\n",
              "      border-bottom-color: var(--fill-color);\n",
              "    }\n",
              "  }\n",
              "</style>\n",
              "\n",
              "  <script>\n",
              "    async function quickchart(key) {\n",
              "      const quickchartButtonEl =\n",
              "        document.querySelector('#' + key + ' button');\n",
              "      quickchartButtonEl.disabled = true;  // To prevent multiple clicks.\n",
              "      quickchartButtonEl.classList.add('colab-df-spinner');\n",
              "      try {\n",
              "        const charts = await google.colab.kernel.invokeFunction(\n",
              "            'suggestCharts', [key], {});\n",
              "      } catch (error) {\n",
              "        console.error('Error during call to suggestCharts:', error);\n",
              "      }\n",
              "      quickchartButtonEl.classList.remove('colab-df-spinner');\n",
              "      quickchartButtonEl.classList.add('colab-df-quickchart-complete');\n",
              "    }\n",
              "    (() => {\n",
              "      let quickchartButtonEl =\n",
              "        document.querySelector('#df-32a93256-fa3d-4ac8-bb90-54a819f87ff9 button');\n",
              "      quickchartButtonEl.style.display =\n",
              "        google.colab.kernel.accessAllowed ? 'block' : 'none';\n",
              "    })();\n",
              "  </script>\n",
              "</div>\n",
              "    </div>\n",
              "  </div>\n"
            ],
            "application/vnd.google.colaboratory.intrinsic+json": {
              "type": "dataframe",
              "variable_name": "dataset",
              "summary": "{\n  \"name\": \"dataset\",\n  \"rows\": 215,\n  \"fields\": [\n    {\n      \"column\": \"Angle(deg)\",\n      \"properties\": {\n        \"dtype\": \"number\",\n        \"std\": 8.28568791423668,\n        \"min\": 0.0,\n        \"max\": 29.8,\n        \"num_unique_values\": 215,\n        \"samples\": [\n          1.8,\n          0.3,\n          9.9\n        ],\n        \"semantic_type\": \"\",\n        \"description\": \"\"\n      }\n    },\n    {\n      \"column\": \"Force(N)\",\n      \"properties\": {\n        \"dtype\": \"number\",\n        \"std\": 9.663621564517307,\n        \"min\": -39.12231559290383,\n        \"max\": 2.9878618113912236,\n        \"num_unique_values\": 105,\n        \"samples\": [\n          -22.689075630252102,\n          -4.014939309056956,\n          -4.201680672268908\n        ],\n        \"semantic_type\": \"\",\n        \"description\": \"\"\n      }\n    }\n  ]\n}"
            }
          },
          "metadata": {},
          "execution_count": 14
        }
      ],
      "source": [
        "dataset = pd.read_excel(\"test_force.xlsx\")\n",
        "dataset.drop(axis = 0, index = 0,inplace = True)\n",
        "dataset.drop(dataset.head(280).index, inplace = True)\n",
        "dataset"
      ]
    },
    {
      "cell_type": "code",
      "execution_count": null,
      "metadata": {
        "id": "wmHew6jhXQ9i"
      },
      "outputs": [],
      "source": [
        "def wind(p_2, V_2, m_1):\n",
        "\n",
        "    if (p_2 - p_0> 80):\n",
        "        coeff = 0.8\n",
        "    else:\n",
        "        coeff = (p_2 - p_0)/500\n",
        "\n",
        "    A_0 = R_r*(theta>0)*theta*(H+R_r)+0.00 #0.001短降\n",
        "    A = A_0 + coeff*A_p\n",
        "\n",
        "\n",
        "    #EFFICIENT AREA\n",
        "    A = 1 * A\n",
        "\n",
        "    S = p_2/p_0\n",
        "\n",
        "    if (S <= 1):\n",
        "        q_mass = 0\n",
        "    elif (S< W):\n",
        "        q_mass= A * math.sqrt(2*r/(r-1)*p_0*1.205*(S**(2*(r-1)/r) - S**((r-1)/r)))\n",
        "    else:\n",
        "        q_mass = A * 1.205*S**(1/r)*math.sqrt((2*r/(r+1))*R*293)\n",
        "\n",
        "    V_2 = V_2 - (2*v_t)*dt*R_r*H/2\n",
        "    m_1 = m_1 - q_mass*dt\n",
        "    rou = m_1/V_2\n",
        "    F_drag = 0.5*rou*((v_t*2)**2)*Cd*(H*R_r)\n",
        "    p_2 = m_1*R*293/V_2\n",
        "    alpha = 0.5 * (p_2 - 1* p_0)*H*R_r**2 /J + 0.5 * F_drag * R_r /J\n",
        "\n",
        "    #v_t = v_t - alpha*dt\n",
        "    energy = 0.5*J*(v_t/R_rotation)**2 - 0.5*J*((v_t-alpha*dt)/R_rotation)**2\n",
        "    return alpha, m_1, V_2, p_2, q_mass, energy\n",
        "\n",
        "##------------------------------------------------------------------------------------------------------------#####\n",
        "def wind2(p_2, V_2, m_1):\n",
        "\n",
        "    if (p_2 - p_0> 32):\n",
        "        q_v =  (0.7*(p_2 - p_0)+17.5)*1    #流通量 单位L/s\n",
        "    elif (p_2 - p_0> 10):\n",
        "        q_v =  1.3*(p_2 - p_0)\n",
        "    else:\n",
        "        q_v =0\n",
        "\n",
        "    A_0 = R_r*(theta>0)*theta*(H+R_r)+0.00 #0.001短降\n",
        "    A = A_0\n",
        "\n",
        "\n",
        "    #EFFICIENT AREA\n",
        "    A = 1 * A\n",
        "\n",
        "    S = p_2/p_0\n",
        "\n",
        "    if (S <= 1):\n",
        "        q_mass = 0\n",
        "    elif (S< W):\n",
        "        q_mass= A * math.sqrt(2*r/(r-1)*p_0*1.205*(S**(2*(r-1)/r) - S**((r-1)/r))) + q_v/1000*1.205*2\n",
        "    else:\n",
        "        q_mass = A * 1.205*S**(1/r)*math.sqrt((2*r/(r+1))*R*293) + q_v/1000*1.205*2\n",
        "\n",
        "    V_2 = V_2 - (2*v_t)*dt*R_r*H/2\n",
        "    m_1 = m_1 - q_mass*dt\n",
        "    rou = m_1/V_2\n",
        "    F_drag = 0.5*rou*((v_t*2)**2)*Cd*(H*R_r)\n",
        "    p_2 = m_1*R*293/V_2\n",
        "    alpha = 0.5 * (p_2 - 1* p_0)*H*R_r**2 /J + 0.5 * F_drag * R_r /J\n",
        "\n",
        "    #v_t = v_t - alpha*dt\n",
        "    energy = 0.5*J*(v_t/R_rotation)**2 - 0.5*J*((v_t-alpha*dt)/R_rotation)**2\n",
        "    return alpha, m_1, V_2, p_2, q_mass, energy\n",
        "##------------------------------------------------------------------------------------------------------------#####\n",
        "def wind3(p_2, V_2, m_1):\n",
        "\n",
        "    if (p_2 - p_0> 40):\n",
        "        q_v =  0.425*(p_2 - p_0)+25    #流通量 单位L/s\n",
        "    else:\n",
        "        q_v =  0.8*(41/40*(p_2 - p_0))\n",
        "\n",
        "    #q_v = q_v*0.6  #按照左右不均匀 阻挡与系数打折\n",
        "\n",
        "\n",
        "    A_0 = R_r*(theta>0)*theta*(H+R_r)+0.00 #0.001短降\n",
        "    A = A_0\n",
        "\n",
        "\n",
        "    #EFFICIENT AREA\n",
        "    A = 1 * A\n",
        "\n",
        "    S = p_2/p_0\n",
        "\n",
        "    if (S <= 1):\n",
        "        q_mass = 0\n",
        "    elif (S< W):\n",
        "        q_mass= A * math.sqrt(2*r/(r-1)*p_0*1.205*(S**(2*(r-1)/r) - S**((r-1)/r))) + q_v/1000*1.205*2\n",
        "    else:\n",
        "        q_mass = A * 1.205*S**(1/r)*math.sqrt((2*r/(r+1))*R*293) + q_v/1000*1.205*2\n",
        "\n",
        "    V_2 = V_2 - (2*v_t)*dt*R_r*H/2\n",
        "    m_1 = m_1 - q_mass*dt\n",
        "    rou = m_1/V_2\n",
        "    F_drag = 0.5*rou*((v_t*2)**2)*Cd*(H*R_r)\n",
        "    p_2 = m_1*R*293/V_2\n",
        "    alpha = 0.5 * (p_2 - 1* p_0)*H*R_r**2 /J + 0.5 * F_drag * R_r /J\n",
        "\n",
        "    #v_t = v_t - alpha*dt\n",
        "    energy = 0.5*J*(v_t/R_rotation)**2 - 0.5*J*((v_t-alpha*dt)/R_rotation)**2\n",
        "    return alpha, m_1, V_2, p_2, q_mass, energy\n",
        "##------------------------------------------------------------------------------------------------------------#####\n",
        "def wind4(p_2, V_2, m_1):\n",
        "\n",
        "    q_v = -1/1000*(p_2 - p_0)**2+3.4*(p_2 - p_0)/20 #此处q单位 kg/min\n",
        "\n",
        "\n",
        "    A_0 = R_r*(theta>0)*theta*(H+R_r)+0.00 #0.001短降\n",
        "    A = A_0\n",
        "\n",
        "\n",
        "    #EFFICIENT AREA\n",
        "    A = 1 * A\n",
        "\n",
        "    S = p_2/p_0\n",
        "\n",
        "    if (S <= 1):\n",
        "        q_mass = 0\n",
        "    elif (S< W):\n",
        "        q_mass= A * math.sqrt(2*r/(r-1)*p_0*1.205*(S**(2*(r-1)/r) - S**((r-1)/r))) + q_v*2/60    #此处q单位 kg/min\n",
        "    else:\n",
        "        q_mass = A * 1.205*S**(1/r)*math.sqrt((2*r/(r+1))*R*293) + q_v*2/60\n",
        "\n",
        "    V_2 = V_2 - (2*v_t)*dt*R_r*H/2\n",
        "    m_1 = m_1 - q_mass*dt\n",
        "    rou = m_1/V_2\n",
        "    F_drag = 0.5*rou*((v_t*2)**2)*Cd*(H*R_r)\n",
        "    p_2 = m_1*R*293/V_2\n",
        "    alpha = 0.5 * (p_2 - 1* p_0)*H*R_r**2 /J + 0.5 * F_drag * R_r /J\n",
        "\n",
        "    #v_t = v_t - alpha*dt\n",
        "    energy = 0.5*J*(v_t/R_rotation)**2 - 0.5*J*((v_t-alpha*dt)/R_rotation)**2\n",
        "    return alpha, m_1, V_2, p_2, q_mass, energy\n",
        "##------------------------------------------------------------------------------------------------------------#####\n",
        "def wind5(p_2, V_2, m_1):\n",
        "\n",
        "    if (p_2 - p_0> 75):\n",
        "        q_v =  0.34*(p_2 - p_0)+ 40   #流通量 单位L/s\n",
        "    elif (p_2 - p_0> 25) :\n",
        "        q_v =  0.6*(p_2 - p_0)+ 16\n",
        "    else:\n",
        "        q_v =  25/31*(p_2 - p_0)\n",
        "\n",
        "    A_0 = R_r*(theta>0)*theta*(H+R_r)+0.00 #0.001短降\n",
        "    A = A_0\n",
        "\n",
        "\n",
        "    #EFFICIENT AREA\n",
        "    A = 1 * A\n",
        "\n",
        "    S = p_2/p_0\n",
        "\n",
        "    if (S <= 1):\n",
        "        q_mass = 0\n",
        "    elif (S< W):\n",
        "        q_mass= A * math.sqrt(2*r/(r-1)*p_0*1.205*(S**(2*(r-1)/r) - S**((r-1)/r))) + q_v/1000*1.205*1.6\n",
        "    else:\n",
        "        q_mass = A * 1.205*S**(1/r)*math.sqrt((2*r/(r+1))*R*293) + q_v*2/60\n",
        "\n",
        "    V_2 = V_2 - (2*v_t)*dt*R_r*H/2\n",
        "    m_1 = m_1 - q_mass*dt\n",
        "    rou = m_1/V_2\n",
        "    F_drag = 0.5*rou*((v_t*2)**2)*Cd*(H*R_r)\n",
        "    p_2 = m_1*R*293/V_2\n",
        "    alpha = 0.5 * (p_2 - 1* p_0)*H*R_r**2 /J + 0.5 * F_drag * R_r /J\n",
        "\n",
        "    #v_t = v_t - alpha*dt\n",
        "    energy = 0.5*J*(v_t/R_rotation)**2 - 0.5*J*((v_t-alpha*dt)/R_rotation)**2\n",
        "    return alpha, m_1, V_2, p_2, q_mass, energy\n",
        "\n",
        "##------------------------------------------------------------------------------------------------------------#####\n",
        "def velocity(w_alpha, g_alpha, s_alpha, c_alpha, l_alpha, old_velocity):\n",
        "#def velocity(w_alpha, g_alpha, s_alpha, old_velocity):\n",
        "    new_velocity = old_velocity + (g_alpha - w_alpha + s_alpha + c_alpha + l_alpha) *dt * R_rotation\n",
        "    #new_velocity = old_velocity + (g_alpha - w_alpha + s_alpha) *dt * R_rotation\n",
        "\n",
        "\n",
        "    return new_velocity\n",
        "\n",
        "#------------------------------------------------------------------------------------------------------------------------------\n",
        "def gravity(center_t):\n",
        "\n",
        "    #ptg_x = float(ptg[0])\n",
        "    #ptg_y = float(ptg[1])\n",
        "    ax = (pt1_x - pt2_x)/math.sqrt((pt1_x - pt2_x)**2+(pt1_y - pt2_y)**2+(pt1_z - pt2_z)**2)\n",
        "    ay = (pt1_y - pt2_y)/math.sqrt((pt1_x - pt2_x)**2+(pt1_y - pt2_y)**2+(pt1_z - pt2_z)**2)\n",
        "    az = (pt1_z - pt2_z)/math.sqrt((pt1_x - pt2_x)**2+(pt1_y - pt2_y)**2+(pt1_z - pt2_z)**2)\n",
        "    #ptg_z = float(ptg[2])t1_y - pt2_y)**2+(pt1_z - pt2_z)**2)\n",
        "    gx = center_t[0]\n",
        "    gy = center_t[1]\n",
        "    gz = center_t[2]\n",
        "\n",
        "    dtheta =  v_t*dt/R_rotation\n",
        "    new_x = (ax*ax*(1-math.cos(-dtheta))+math.cos(-dtheta))*gx+(ax*ay*(1-math.cos(-dtheta))-az*math.sin(-dtheta))*gy+ (ax*az*(1-math.cos(-dtheta))+ay*math.sin(-dtheta))*gz\n",
        "    new_y = (ax*ay*(1-math.cos(-dtheta))+az*math.sin(-dtheta))*gx+(ay*ay*(1-math.cos(-dtheta))+math.cos(-dtheta))*gy+ (ay*az*(1-math.cos(-dtheta))-ax*math.sin(-dtheta))*gz\n",
        "    new_z = (ax*az*(1-math.cos(-dtheta))-ay*math.sin(-dtheta))*gx+(ay*az*(1-math.cos(-dtheta))+ax*math.sin(-dtheta))*gy+(az*az*(1-math.cos(-dtheta))+math.cos(-dtheta))*gz\n",
        "\n",
        "    w = dtheta/dt\n",
        "\n",
        "    new_w = math.sqrt(w**2+(2*m_door*9.8*(gz-new_z))/J)\n",
        "    alpha =(new_w - w)/dt\n",
        "    energy = (gz - new_z)*m_door*9.8\n",
        "\n",
        "\n",
        "    center_t = [new_x, new_y, new_z]\n",
        "    return alpha, center_t, energy\n",
        "\n",
        "#------------------------------------------------------------------------------------------------------------------------------------\n",
        "def seal():\n",
        "    if theta < 10*3.14159/180:\n",
        "        work1 = ((10-theta*180/3.14159)**3 - (10-theta*180/3.14159+v_t*dt/R_rotation*180/3.14159)**3)/1000*1.3\n",
        "        work2 = (v_t**2/0.23)*work1\n",
        "        work = work1+work2\n",
        "        w = v_t/R_rotation\n",
        "        new_w = math.sqrt(w**2+(2*work)/J)\n",
        "        alpha = (new_w - w)/dt\n",
        "        #alpha = 0\n",
        "    else:\n",
        "        alpha = 0\n",
        "        work = 0\n",
        "\n",
        "    return alpha,work\n",
        "\n",
        "##-------------------------------------------------------------------------------------------------------------------------------------------\n",
        "def friction():\n",
        "    Torque_hinge = 3\n",
        "    alpha = Torque_hinge/J\n",
        "    #new_velocity = old_velocity-alpha*dt*R_rotation\n",
        "    #work = -old_velocity*J*alpha*dt/R_rotation +0.5*J*(alpha**2)*(dt**2)\n",
        "    work = -v_t*J*alpha*dt/R_rotation +0.5*J*(alpha**2)*(dt**2)\n",
        "    return work\n",
        "\n"
      ]
    },
    {
      "cell_type": "code",
      "execution_count": null,
      "metadata": {
        "id": "zD28id4MXTox"
      },
      "outputs": [],
      "source": [
        "def checking():\n",
        "    force = regr.predict(pd.DataFrame([theta*180/3.1415926],columns=['aa']))[0]\n",
        "    moment = force * R_r\n",
        "    alpha  = moment/J*(theta>0)\n",
        "    energy = v_t/R_rotation*moment*dt\n",
        "    return alpha, energy\n",
        "#----------------------------------------------------------------------------------------------------------------------------------------\n",
        "def check_energy_total2():\n",
        "    total_energy = 0\n",
        "    for i in range(560):\n",
        "      force = regr.predict(pd.DataFrame([i/20],columns=['aa']))[0]\n",
        "      moment = force\n",
        "      energy = 0.05*moment/180*3.1415926\n",
        "      total_energy = energy +total_energy\n",
        "    return total_energy\n",
        "#----------------------------------------------------------------------------------------------------------------------------------------\n",
        "def check_energy_total():\n",
        "    total_energy = 0\n",
        "    for i in range(650):\n",
        "      force = regr.predict(pd.DataFrame([i/10],columns=['aa']))[0]\n",
        "      moment = force\n",
        "      energy = 0.1*moment/180*3.1415926\n",
        "      total_energy = energy +total_energy\n",
        "    return total_energy\n",
        "\n",
        "#----------------------------------------------------------------------------------------------------------------------------------------\n",
        "def lock():\n",
        "    force = regr_lock.predict(pd.DataFrame([theta*180/3.1415926],columns=['aa']))[0]\n",
        "    moment = -force * R_r\n",
        "    alpha  = moment/J*(theta>-0.2*3.1415926/180)*(theta<0.6*3.1415926/180)\n",
        "    moment = alpha*J\n",
        "    energy = v_t/R_rotation*moment*dt\n",
        "    return alpha, energy\n",
        "##------------------------------------------------------------------------------------------------------------#####\n",
        "\n",
        "def velocity_energy(w_energy, g_energy, s_energy, c_energy, l_energy, f_energy, old_velocity):\n",
        "#def velocity(w_alpha, g_alpha, s_alpha, old_velocity):\n",
        "    old_energy = 0.5 * J * (old_velocity/R_rotation)**2\n",
        "    new_energy = old_energy - w_energy+g_energy+s_energy + c_energy +l_energy +f_energy\n",
        "    new_velocity = (new_energy*2/J)**0.5 *R_rotation\n",
        "    #new_velocity = old_velocity + (g_alpha - w_alpha + s_alpha) *dt * R_rotation\n",
        "\n",
        "    return new_velocity\n",
        "\n",
        "#------------------------------------------------------------------------------------------------------------------------------\n",
        "def checking_moment():\n",
        "    moment = regr.predict(pd.DataFrame([theta*180/3.1415926],columns=['aa']))[0]\n",
        "    alpha  = moment/J*(theta>0)\n",
        "    energy = v_t/R_rotation*moment*dt\n",
        "    return alpha, energy\n",
        "###"
      ]
    },
    {
      "cell_type": "code",
      "execution_count": null,
      "metadata": {
        "colab": {
          "base_uri": "https://localhost:8080/"
        },
        "id": "9Atm1E5-XVlw",
        "outputId": "9672e62b-c7a8-4839-f029-ef8aeca6d06c"
      },
      "outputs": [
        {
          "output_type": "execute_result",
          "data": {
            "text/plain": [
              "0.559161002714111"
            ]
          },
          "metadata": {},
          "execution_count": 32
        }
      ],
      "source": [
        "pt1_x = float(pt1[0])\n",
        "pt1_y = float(pt1[1])\n",
        "pt1_z = float(pt1[2])\n",
        "pt2_x = float(pt2[0])\n",
        "pt2_y = float(pt2[1])\n",
        "pt2_z = float(pt2[2])\n",
        "ptg_x = float(pt_g[0])\n",
        "ptg_y = float(pt_g[1])\n",
        "ptg_z = float(pt_g[2])\n",
        "R_rotation = (math.sqrt((ptg_y -0.5* pt2_y - 0.5* pt1_y)**2+(ptg_x - 0.5*pt2_x - 0.5* pt1_x)**2+(ptg_z -0.5*pt2_z - 0.5* pt1_z)**2))\n",
        "R_rotation"
      ]
    },
    {
      "cell_type": "code",
      "execution_count": null,
      "metadata": {
        "id": "t68K0epQXXSC"
      },
      "outputs": [],
      "source": [
        "while theta > -0.23*3.1415926/180:\n",
        "\n",
        "    if (i == 0):\n",
        "        pressure = p_0\n",
        "        volume = V_c+ 0.25*H* (R_r**2) /2\n",
        "        mass_air = m_0\n",
        "        new_center = [new_xx, new_yy, new_zz]\n",
        "\n",
        "        pt1_x = float(pt1[0])\n",
        "        pt1_y = float(pt1[1])\n",
        "        pt1_z = float(pt1[2])\n",
        "        pt2_x = float(pt2[0])\n",
        "        pt2_y = float(pt2[1])\n",
        "        pt2_z = float(pt2[2])\n",
        "        ptg_x = float(pt_g[0])\n",
        "        ptg_y = float(pt_g[1])\n",
        "        ptg_z = float(pt_g[2])\n",
        "\n",
        "    #R_rotation = (math.sqrt((ptg_y - pt2_y)**2+(ptg_x - pt2_x)**2))\n",
        "    R_rotation = (math.sqrt((ptg_y -0.5* pt2_y - 0.5* pt1_y)**2+(ptg_x - 0.5*pt2_x - 0.5* pt1_x)**2+(ptg_z -0.5*pt2_z - 0.5* pt1_z)**2))\n",
        "    theta = theta - v_t*dt/R_rotation\n",
        "    wind_alpha, mass_air, volume, pressure , q_m, wind_energy = wind(pressure,volume, mass_air)\n",
        "\n",
        "    #wind_alpha, mass_air, volume, pressure , q_m, wind_energy = wind3(pressure,volume, mass_air)\n",
        "    #wind_alpha, mass_air, volume, pressure , q_m, wind_energy = wind5(pressure,volume, mass_air)\n",
        "\n",
        "    gravity_alpha, new_center, gravity_energy = gravity(new_center)\n",
        "\n",
        "    seal_alpha,seal_energy = seal()\n",
        "\n",
        "    #checking_alpha, checking_energy = checking()\n",
        "    checking_alpha, checking_energy = checking_moment()\n",
        "\n",
        "    lock_alpha, lock_energy = lock()\n",
        "\n",
        "    friction_energy = friction()\n",
        "\n",
        "    #v_t = velocity(wind_alpha, gravity_alpha, seal_alpha,v_t)\n",
        "    #v_t = velocity(wind_alpha, gravity_alpha, seal_alpha, checking_alpha, lock_alpha, v_t)\n",
        "    v_t = velocity_energy(wind_energy, gravity_energy, seal_energy, checking_energy, lock_energy, friction_energy, v_t)\n",
        "    #v_t = velocity_energy(0, gravity_energy, 0, checking_energy, 0, 0, v_t)\n",
        "\n",
        "\n",
        "    a_alpha.append(gravity_alpha - wind_alpha)\n",
        "    a_theta.append(theta*180/3.1415)\n",
        "    a_v.append(v_t)\n",
        "    a_i.append(i*dt)\n",
        "    a_p.append(pressure-101300)\n",
        "    a_q.append(q_m)\n",
        "    #a_seal.append(seal_work)\n",
        "    i = i+1\n",
        "    if (v_t < 0.01):\n",
        "        break\n"
      ]
    },
    {
      "cell_type": "code",
      "execution_count": null,
      "metadata": {
        "colab": {
          "base_uri": "https://localhost:8080/"
        },
        "id": "_kVSN0SWXZZe",
        "outputId": "c8176bab-fa5a-4353-afd3-c66ea54bed6c"
      },
      "outputs": [
        {
          "output_type": "execute_result",
          "data": {
            "text/plain": [
              "-0.2176520424415148"
            ]
          },
          "metadata": {},
          "execution_count": 89
        }
      ],
      "source": [
        "a_theta[-1]  #角度制"
      ]
    },
    {
      "cell_type": "code",
      "execution_count": null,
      "metadata": {
        "colab": {
          "base_uri": "https://localhost:8080/"
        },
        "id": "XL8B8NNzXavb",
        "outputId": "d197d3f1-53e4-4e37-8f70-7d6960ddc9ed"
      },
      "outputs": [
        {
          "output_type": "execute_result",
          "data": {
            "text/plain": [
              "[-0.0037986327296112153, 0.009974221812949545]"
            ]
          },
          "metadata": {},
          "execution_count": 90
        }
      ],
      "source": [
        "[theta, v_t]"
      ]
    },
    {
      "cell_type": "code",
      "execution_count": null,
      "metadata": {
        "colab": {
          "base_uri": "https://localhost:8080/",
          "height": 872
        },
        "id": "hjDnVynQXb4v",
        "outputId": "c17e824b-5948-4140-c4b4-a73dc9a07479"
      },
      "outputs": [
        {
          "output_type": "execute_result",
          "data": {
            "text/plain": [
              "Text(0, 0.5, 'Velocity')"
            ]
          },
          "metadata": {},
          "execution_count": 91
        },
        {
          "output_type": "display_data",
          "data": {
            "text/plain": [
              "<Figure size 1600x1000 with 5 Axes>"
            ],
            "image/png": "[encoded data removed]"
          },
          "metadata": {}
        }
      ],
      "source": [
        "plt.figure(figsize = (16,10))\n",
        "ax1 = plt.subplot(3,2,1)\n",
        "plt.plot(a_i,a_v)\n",
        "plt.xlabel('Time')\n",
        "plt.ylabel('Center Velocity(m/s)')\n",
        "\n",
        "ax2 = plt.subplot(3,2,2)\n",
        "plt.plot(a_i,a_theta)\n",
        "plt.xlabel('Time')\n",
        "plt.ylabel('Angle')\n",
        "\n",
        "ax3 = plt.subplot(3,2,3)\n",
        "plt.plot(a_i,a_p)\n",
        "plt.xlabel('Time')\n",
        "plt.ylabel('Pressure diff(Pa)')\n",
        "\n",
        "ax4 = plt.subplot(3,2,4)\n",
        "plt.plot(a_i,a_q)\n",
        "plt.xlabel('Time')\n",
        "plt.ylabel('Mass flow rate(kg/s)')\n",
        "\n",
        "ax5 = plt.subplot(3,2,5)\n",
        "plt.plot(a_theta,a_v)\n",
        "plt.xlabel('Angle')\n",
        "plt.ylabel('Velocity')\n",
        "\n",
        "#ax5 = plt.subplot(3,2,5)\n",
        "#plt.plot(a_i,a_alpha)\n",
        "#plt.xlabel('Time')\n",
        "#plt.ylabel('alpha(s^-2)')"
      ]
    },
    {
      "cell_type": "code",
      "execution_count": null,
      "metadata": {
        "colab": {
          "base_uri": "https://localhost:8080/"
        },
        "id": "6powhsHhXdcA",
        "outputId": "3173bdd1-a58f-4a5b-9007-40169f9b2c5b"
      },
      "outputs": [
        {
          "output_type": "execute_result",
          "data": {
            "text/plain": [
              "0.009974221812949545"
            ]
          },
          "metadata": {},
          "execution_count": 92
        }
      ],
      "source": [
        "a_v[-1]\n",
        "#末速度 m/s"
      ]
    },
    {
      "cell_type": "code",
      "execution_count": null,
      "metadata": {
        "colab": {
          "base_uri": "https://localhost:8080/"
        },
        "id": "Zhozd2XGXfjd",
        "outputId": "82ea55e1-b65c-495b-e3c0-fe30ffd6368b"
      },
      "outputs": [
        {
          "output_type": "execute_result",
          "data": {
            "text/plain": [
              "-0.2176520424415148"
            ]
          },
          "metadata": {},
          "execution_count": 93
        }
      ],
      "source": [
        "a_theta[-1]\n",
        "#和-0.224比 停止角度 角度制"
      ]
    },
    {
      "cell_type": "code",
      "execution_count": null,
      "metadata": {
        "colab": {
          "base_uri": "https://localhost:8080/"
        },
        "id": "_FNqE9muXg-P",
        "outputId": "a0523f4e-3771-4fdf-e89f-892e3d245e0f"
      },
      "outputs": [
        {
          "output_type": "stream",
          "name": "stdout",
          "text": [
            "3.8000000000000007\n"
          ]
        }
      ],
      "source": [
        "print(0.5*J*(v_0/R_rotation)**2) #初始输入能量"
      ]
    },
    {
      "cell_type": "code",
      "execution_count": null,
      "metadata": {
        "colab": {
          "base_uri": "https://localhost:8080/"
        },
        "id": "CRX1TVLmXiSH",
        "outputId": "cf7eea67-ef2d-4e0e-9ded-776d6c1301c9"
      },
      "outputs": [
        {
          "output_type": "execute_result",
          "data": {
            "text/plain": [
              "Angle              4.638318\n",
              "Center velocity    0.334212\n",
              "Name: 27436, dtype: float64"
            ]
          },
          "metadata": {},
          "execution_count": 95
        }
      ],
      "source": [
        "final_ans = pd.DataFrame(data=None, index=None, columns=['Angle','Center velocity'], dtype=None, copy=False)\n",
        "final_ans['Angle'] = a_theta\n",
        "final_ans['Center velocity'] = a_v\n",
        "#final_ans.set_index([\"Angle\"], inplace=True)\n",
        "final_ans.iloc[27436]"
      ]
    },
    {
      "cell_type": "code",
      "source": [],
      "metadata": {
        "id": "VorL5YuU1nC7"
      },
      "execution_count": null,
      "outputs": []
    },
    {
      "cell_type": "code",
      "source": [
        "final_ans = pd.DataFrame(data=None, index=None, columns=['Angle','Center velocity'], dtype=None, copy=False)\n",
        "final_ans['Angle'] = a_theta\n",
        "final_ans['Center velocity'] = a_v\n",
        "#final_ans.set_index([\"Angle\"], inplace=True)\n",
        "final_ans.iloc[24389]"
      ],
      "metadata": {
        "colab": {
          "base_uri": "https://localhost:8080/"
        },
        "id": "mNhNjZYl1HiZ",
        "outputId": "4ae24139-2f71-4f8e-ef35-046debc5d446"
      },
      "execution_count": null,
      "outputs": [
        {
          "output_type": "execute_result",
          "data": {
            "text/plain": [
              "Angle              10.155424\n",
              "Center velocity     0.269559\n",
              "Name: 24389, dtype: float64"
            ]
          },
          "metadata": {},
          "execution_count": 64
        }
      ]
    },
    {
      "cell_type": "code",
      "source": [
        "0.5*J*(0.318692/R_rotation)**2"
      ],
      "metadata": {
        "colab": {
          "base_uri": "https://localhost:8080/"
        },
        "id": "0PA5ETrhsYSi",
        "outputId": "bd5d6726-4a31-4dfc-d46b-7df7d7fa81fe"
      },
      "execution_count": null,
      "outputs": [
        {
          "output_type": "execute_result",
          "data": {
            "text/plain": [
              "4.611424272695467"
            ]
          },
          "metadata": {},
          "execution_count": 65
        }
      ]
    },
    {
      "cell_type": "code",
      "source": [
        "0.318692/R_rotation*1.12"
      ],
      "metadata": {
        "colab": {
          "base_uri": "https://localhost:8080/"
        },
        "id": "jVu4oKn8_KAj",
        "outputId": "88439981-9412-4540-e283-9daf17594fd2"
      },
      "execution_count": null,
      "outputs": [
        {
          "output_type": "execute_result",
          "data": {
            "text/plain": [
              "0.6922410591702044"
            ]
          },
          "metadata": {},
          "execution_count": 66
        }
      ]
    },
    {
      "cell_type": "code",
      "source": [
        "R_rotation"
      ],
      "metadata": {
        "colab": {
          "base_uri": "https://localhost:8080/"
        },
        "id": "6QIrVD6L3k3O",
        "outputId": "72d347eb-9355-4000-dd5f-1b48024b6325"
      },
      "execution_count": null,
      "outputs": [
        {
          "output_type": "execute_result",
          "data": {
            "text/plain": [
              "0.5156224631169108"
            ]
          },
          "metadata": {},
          "execution_count": 67
        }
      ]
    },
    {
      "cell_type": "code",
      "execution_count": null,
      "metadata": {
        "colab": {
          "base_uri": "https://localhost:8080/"
        },
        "id": "vVWDHjdJXkOU",
        "outputId": "8513956d-3168-4639-b7eb-4749964896ab"
      },
      "outputs": [
        {
          "output_type": "execute_result",
          "data": {
            "text/plain": [
              "-3.613730334549414"
            ]
          },
          "metadata": {},
          "execution_count": 37
        }
      ],
      "source": [
        "check_energy_total()"
      ]
    },
    {
      "cell_type": "code",
      "execution_count": null,
      "metadata": {
        "colab": {
          "base_uri": "https://localhost:8080/"
        },
        "id": "0MM5N0bNj6wP",
        "outputId": "2e93ea0a-31b4-45fe-ccc1-9d6aec876cb1"
      },
      "outputs": [
        {
          "output_type": "execute_result",
          "data": {
            "text/plain": [
              "0.17371916247235494"
            ]
          },
          "metadata": {},
          "execution_count": 38
        }
      ],
      "source": [
        "check_energy_total2()"
      ]
    },
    {
      "cell_type": "code",
      "execution_count": null,
      "metadata": {
        "colab": {
          "base_uri": "https://localhost:8080/"
        },
        "id": "P5TbT7yvmj55",
        "outputId": "e3d85963-c423-480b-9760-0c4645cb8aa1"
      },
      "outputs": [
        {
          "data": {
            "text/plain": [
              "0.610601792049184"
            ]
          },
          "execution_count": 133,
          "metadata": {},
          "output_type": "execute_result"
        }
      ],
      "source": [
        "0.34/R_rotation*0.926"
      ]
    },
    {
      "cell_type": "code",
      "execution_count": null,
      "metadata": {
        "colab": {
          "base_uri": "https://localhost:8080/"
        },
        "id": "j-VN8PQUy1IS",
        "outputId": "27d00966-e356-43e9-b2ea-9970fda15111"
      },
      "outputs": [
        {
          "data": {
            "text/plain": [
              "0.30857142857142855"
            ]
          },
          "execution_count": 4,
          "metadata": {},
          "output_type": "execute_result"
        }
      ],
      "source": [
        "(120-66)/(250-75)"
      ]
    },
    {
      "cell_type": "code",
      "execution_count": null,
      "metadata": {
        "colab": {
          "base_uri": "https://localhost:8080/"
        },
        "id": "MyPSU6t0mwab",
        "outputId": "0d95134e-04fd-49ac-b629-99144ee49414"
      },
      "outputs": [
        {
          "data": {
            "text/plain": [
              "42.9"
            ]
          },
          "execution_count": 5,
          "metadata": {},
          "output_type": "execute_result"
        }
      ],
      "source": [
        "66-0.308*75"
      ]
    },
    {
      "cell_type": "code",
      "execution_count": null,
      "metadata": {
        "colab": {
          "base_uri": "https://localhost:8080/"
        },
        "id": "2nj3MWxZnEB6",
        "outputId": "91d6c0da-0bd6-49f6-ddde-1a596ef87e65"
      },
      "outputs": [
        {
          "output_type": "execute_result",
          "data": {
            "text/plain": [
              "0.34245714285714285"
            ]
          },
          "metadata": {},
          "execution_count": 1
        }
      ],
      "source": [
        "(122.5-62.57)/(250-75)"
      ]
    },
    {
      "cell_type": "code",
      "execution_count": null,
      "metadata": {
        "id": "PA8QVOMDnQ5K",
        "colab": {
          "base_uri": "https://localhost:8080/"
        },
        "outputId": "82dbf64d-0235-44cf-e636-455d74d214da"
      },
      "outputs": [
        {
          "output_type": "execute_result",
          "data": {
            "text/plain": [
              "9.304841168177232"
            ]
          },
          "metadata": {},
          "execution_count": 51
        }
      ],
      "source": [
        "0.5*J*(0.4527/R_rotation)**2"
      ]
    },
    {
      "cell_type": "code",
      "source": [
        "(3.3/14)**0.5"
      ],
      "metadata": {
        "id": "o8tfTicDr31z",
        "colab": {
          "base_uri": "https://localhost:8080/"
        },
        "outputId": "0bdffd16-2ee4-4e37-9e0d-6fd16c47129f"
      },
      "execution_count": null,
      "outputs": [
        {
          "output_type": "execute_result",
          "data": {
            "text/plain": [
              "0.4855041562276122"
            ]
          },
          "metadata": {},
          "execution_count": 5
        }
      ]
    },
    {
      "cell_type": "code",
      "source": [
        "(4.3/14)**0.5"
      ],
      "metadata": {
        "colab": {
          "base_uri": "https://localhost:8080/"
        },
        "id": "KXipZjfsju5v",
        "outputId": "81ece7df-911b-498d-9cc5-3eaeffabd8c9"
      },
      "execution_count": null,
      "outputs": [
        {
          "output_type": "execute_result",
          "data": {
            "text/plain": [
              "0.554204706893452"
            ]
          },
          "metadata": {},
          "execution_count": 4
        }
      ]
    },
    {
      "cell_type": "code",
      "source": [],
      "metadata": {
        "id": "73wHZ3rVjw1O"
      },
      "execution_count": null,
      "outputs": []
    }
  ],
  "metadata": {
    "colab": {
      "provenance": [],
      "authorship_tag": "ABX9TyMidTN/CwLgR0NIRC6BuoJR",
      "include_colab_link": true
    },
    "kernelspec": {
      "display_name": "Python 3",
      "name": "python3"
    },
    "language_info": {
      "name": "python"
    }
  },
  "nbformat": 4,
  "nbformat_minor": 0
}